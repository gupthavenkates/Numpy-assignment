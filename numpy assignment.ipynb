{
 "cells": [
  {
   "cell_type": "code",
   "execution_count": 25,
   "metadata": {},
   "outputs": [
    {
     "name": "stdout",
     "output_type": "stream",
     "text": [
      "Enter list of numbers seperated by comma: 2,3,5,7,11\n",
      "enter value of k in integer: 0\n",
      "[[   16     8     4     2     1]\n",
      " [   81    27     9     3     1]\n",
      " [  625   125    25     5     1]\n",
      " [ 2401   343    49     7     1]\n",
      " [14641  1331   121    11     1]]\n"
     ]
    }
   ],
   "source": [
    "#Write a function so that the columns of the output matrix are powers of the input vector\n",
    "import numpy as np\n",
    "def vandermonde(a,k):\n",
    "    c=[]\n",
    "    a=list(map(int,a))\n",
    "    b=np.array(a)\n",
    "    for i in range(k-1,-1,-1):\n",
    "        c.extend(list(b**i))\n",
    "    c=np.array(c).reshape(k,len(a)).transpose()\n",
    "    return c\n",
    "test=input(\"Enter list of numbers seperated by comma: \").split(\",\")\n",
    "k=int(input(\"enter value of k in integer: \"))\n",
    "print(vandermonde(test,k if k>1 else len(test)))"
   ]
  },
  {
   "cell_type": "code",
   "execution_count": 32,
   "metadata": {},
   "outputs": [
    {
     "name": "stdout",
     "output_type": "stream",
     "text": [
      "Length of list is: 13\n",
      "The moving average sequence has 11 elements\n",
      "Result 1 is 5.0\n",
      "Result 2 is 4.666666666666667\n",
      "Result 3 is 5.666666666666667\n",
      "Result 4 is 6.666666666666667\n",
      "Result 5 is 9.666666666666666\n",
      "Result 6 is 28.666666666666668\n",
      "Result 7 is 49.333333333333336\n",
      "Result 8 is 72.66666666666667\n",
      "Result 9 is 84.0\n",
      "Result 10 is 93.33333333333333\n",
      "Result 11 is 116.33333333333333\n"
     ]
    }
   ],
   "source": [
    "#Program to find moving average\n",
    "list1=np.array([3, 5, 7, 2, 8, 10, 11, 65, 72, 81, 99, 100,150])\n",
    "k=moving_average=3\n",
    "print(\"Length of list is:\",len(list1))\n",
    "print(\"The moving average sequence has\",len(list1)-k+1,\"elements\")\n",
    "for i in range(0,len(list1)-k+1):\n",
    "    print(\"Result\",i+1,\"is\",np.average(list1[i:moving_average]))\n",
    "    moving_average=moving_average+1"
   ]
  }
 ],
 "metadata": {
  "kernelspec": {
   "display_name": "Python 3",
   "language": "python",
   "name": "python3"
  },
  "language_info": {
   "codemirror_mode": {
    "name": "ipython",
    "version": 3
   },
   "file_extension": ".py",
   "mimetype": "text/x-python",
   "name": "python",
   "nbconvert_exporter": "python",
   "pygments_lexer": "ipython3",
   "version": "3.7.4"
  }
 },
 "nbformat": 4,
 "nbformat_minor": 2
}
